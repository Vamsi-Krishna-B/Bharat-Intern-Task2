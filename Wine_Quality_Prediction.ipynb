{
 "cells": [
  {
   "cell_type": "markdown",
   "metadata": {},
   "source": [
    "Importing the Libraries"
   ]
  },
  {
   "cell_type": "code",
   "execution_count": 2,
   "metadata": {},
   "outputs": [],
   "source": [
    "import numpy as np \n",
    "import matplotlib.pyplot as plt \n",
    "import pandas as pd "
   ]
  },
  {
   "cell_type": "markdown",
   "metadata": {},
   "source": [
    "Importing the Dataset"
   ]
  },
  {
   "cell_type": "code",
   "execution_count": 3,
   "metadata": {},
   "outputs": [],
   "source": [
    "dataset = pd.read_csv('Wine_Quality.csv')\n",
    "x = dataset.iloc[:,:-1].values\n",
    "y = dataset.iloc[:,-1].values"
   ]
  },
  {
   "cell_type": "markdown",
   "metadata": {},
   "source": [
    "Splitting data into Training and Test sets"
   ]
  },
  {
   "cell_type": "code",
   "execution_count": 4,
   "metadata": {},
   "outputs": [],
   "source": [
    "from sklearn.model_selection import train_test_split\n",
    "x_train,x_test,y_train,y_test = train_test_split(x,y,test_size=0.125,random_state=1)"
   ]
  },
  {
   "cell_type": "markdown",
   "metadata": {},
   "source": [
    "Training the Regression model"
   ]
  },
  {
   "cell_type": "code",
   "execution_count": 5,
   "metadata": {},
   "outputs": [
    {
     "data": {
      "text/plain": [
      ]
     },
     "execution_count": 5,
     "metadata": {},
     "output_type": "execute_result"
    }
   ],
   "source": [
    "from sklearn.linear_model import LinearRegression\n",
    "regressor = LinearRegression()\n",
    "regressor.fit(x_train,y_train)\n",
    "regressor.coef_"
   ]
  },
  {
   "cell_type": "markdown",
   "metadata": {},
   "source": [
    "Predicting the Test Set Results\n"
   ]
  },
  {
   "cell_type": "code",
   "execution_count": 6,
   "metadata": {},
   "outputs": [
    {
     "name": "stdout",
     "output_type": "stream",
     "text": [
      "[[6. 5.]\n",
      " [5. 6.]\n",
      " [6. 6.]\n",
      " [6. 6.]\n",
      " [7. 6.]\n",
      " [6. 6.]\n",
      " [6. 6.]\n",
      " [5. 5.]\n",
      " [6. 5.]\n",
      " [5. 5.]\n",
      " [6. 6.]\n",
      " [5. 6.]\n",
      " [6. 6.]\n",
      " [6. 6.]\n",
      " [6. 6.]\n",
      " [5. 5.]\n",
      " [6. 6.]\n",
      " [5. 5.]\n",
      " [6. 5.]\n",
      " [5. 5.]\n",
      " [6. 6.]\n",
      " [6. 6.]\n",
      " [5. 5.]\n",
      " [6. 6.]\n",
      " [5. 6.]\n",
      " [6. 6.]\n",
      " [6. 6.]\n",
      " [6. 6.]\n",
      " [5. 6.]\n",
      " [6. 7.]\n",
      " [5. 6.]\n",
      " [6. 6.]\n",
      " [5. 5.]\n",
      " [6. 6.]\n",
      " [5. 5.]\n",
      " [6. 6.]\n",
      " [5. 5.]\n",
      " [5. 7.]\n",
      " [6. 6.]\n",
      " [5. 5.]\n",
      " [6. 6.]\n",
      " [5. 5.]\n",
      " [5. 5.]\n",
      " [6. 6.]\n",
      " [5. 5.]\n",
      " [6. 6.]\n",
      " [5. 5.]\n",
      " [5. 5.]\n",
      " [5. 5.]\n",
      " [6. 6.]\n",
      " [6. 5.]\n",
      " [5. 4.]\n",
      " [6. 7.]\n",
      " [5. 5.]\n",
      " [5. 5.]\n",
      " [6. 6.]\n",
      " [6. 6.]\n",
      " [6. 6.]\n",
      " [6. 5.]\n",
      " [5. 5.]\n",
      " [6. 5.]\n",
      " [5. 6.]\n",
      " [5. 5.]\n",
      " [6. 6.]\n",
      " [5. 5.]\n",
      " [5. 6.]\n",
      " [7. 7.]\n",
      " [6. 6.]\n",
      " [6. 6.]\n",
      " [6. 6.]\n",
      " [5. 5.]\n",
      " [6. 6.]\n",
      " [6. 6.]\n",
      " [6. 6.]\n",
      " [5. 5.]\n",
      " [5. 5.]\n",
      " [6. 6.]\n",
      " [5. 6.]\n",
      " [6. 5.]\n",
      " [6. 6.]\n",
      " [6. 5.]\n",
      " [5. 5.]\n",
      " [5. 5.]\n",
      " [6. 6.]\n",
      " [6. 5.]\n",
      " [5. 5.]\n",
      " [5. 5.]\n",
      " [6. 7.]\n",
      " [5. 5.]\n",
      " [6. 6.]\n",
      " [5. 5.]\n",
      " [6. 7.]\n",
      " [5. 5.]\n",
      " [6. 6.]\n",
      " [6. 5.]\n",
      " [5. 5.]\n",
      " [6. 6.]\n",
      " [5. 5.]\n",
      " [5. 3.]\n",
      " [6. 6.]\n",
      " [5. 5.]\n",
      " [5. 5.]\n",
      " [5. 5.]\n",
      " [5. 5.]\n",
      " [5. 5.]\n",
      " [5. 5.]\n",
      " [6. 6.]\n",
      " [5. 6.]\n",
      " [6. 5.]\n",
      " [7. 6.]\n",
      " [7. 7.]\n",
      " [5. 5.]\n",
      " [6. 6.]\n",
      " [5. 6.]\n",
      " [5. 5.]\n",
      " [7. 7.]\n",
      " [5. 5.]\n",
      " [5. 5.]\n",
      " [5. 5.]\n",
      " [5. 5.]\n",
      " [5. 4.]\n",
      " [7. 7.]\n",
      " [6. 7.]\n",
      " [5. 5.]\n",
      " [5. 5.]\n",
      " [6. 5.]\n",
      " [6. 6.]\n",
      " [5. 5.]\n",
      " [6. 7.]\n",
      " [6. 7.]\n",
      " [6. 6.]\n",
      " [5. 5.]\n",
      " [6. 7.]\n",
      " [5. 5.]\n",
      " [6. 6.]\n",
      " [6. 7.]\n",
      " [5. 5.]\n",
      " [7. 7.]\n",
      " [5. 6.]\n",
      " [5. 6.]\n",
      " [5. 5.]\n",
      " [5. 6.]\n",
      " [6. 6.]\n",
      " [5. 5.]\n",
      " [6. 6.]\n",
      " [6. 6.]\n",
      " [6. 6.]\n",
      " [5. 5.]\n",
      " [6. 6.]\n",
      " [6. 6.]\n",
      " [6. 6.]\n",
      " [6. 6.]\n",
      " [5. 5.]\n",
      " [5. 6.]\n",
      " [6. 5.]\n",
      " [6. 7.]\n",
      " [6. 5.]\n",
      " [6. 6.]\n",
      " [6. 6.]\n",
      " [5. 6.]\n",
      " [6. 8.]\n",
      " [6. 6.]\n",
      " [5. 5.]\n",
      " [5. 5.]\n",
      " [6. 6.]\n",
      " [6. 6.]\n",
      " [6. 4.]\n",
      " [5. 5.]\n",
      " [5. 5.]\n",
      " [6. 6.]\n",
      " [5. 6.]\n",
      " [6. 6.]\n",
      " [5. 4.]\n",
      " [5. 7.]\n",
      " [6. 5.]\n",
      " [5. 6.]\n",
      " [5. 5.]\n",
      " [5. 5.]\n",
      " [5. 5.]\n",
      " [5. 5.]\n",
      " [6. 6.]\n",
      " [6. 6.]\n",
      " [6. 5.]\n",
      " [6. 6.]\n",
      " [6. 6.]\n",
      " [7. 6.]\n",
      " [6. 7.]\n",
      " [6. 6.]\n",
      " [5. 4.]\n",
      " [5. 6.]\n",
      " [5. 5.]\n",
      " [6. 6.]\n",
      " [5. 6.]\n",
      " [5. 5.]\n",
      " [6. 6.]\n",
      " [5. 5.]\n",
      " [6. 4.]\n",
      " [6. 5.]\n",
      " [5. 6.]\n",
      " [5. 5.]]\n"
     ]
    }
   ],
   "source": [
    "y_pred = regressor.predict(x_test)\n",
    "y_pred = np.round(y_pred)\n",
    "print(np.concatenate((y_pred.reshape(len(y_pred),1),(y_test.reshape(len(y_test),1))),1))"
   ]
  },
  {
   "cell_type": "code",
   "execution_count": 7,
   "metadata": {},
   "outputs": [
    {
     "data": {
      "text/plain": [
       "Text(0, 0.5, 'Y_pred')"
      ]
     },
     "execution_count": 7,
     "metadata": {},
     "output_type": "execute_result"
    },
    {
     "data": {
      "image/png": "[encoded data removed]",
      "text/plain": [
       "<Figure size 640x480 with 1 Axes>"
      ]
     },
     "metadata": {},
     "output_type": "display_data"
    }
   ],
   "source": [
    "plt.scatter(y_test,y_pred)\n",
    "plt.title('Y_Test V/S Y_Pred')\n",
    "plt.xlabel('Y_test')\n",
    "plt.ylabel('Y_pred')"
   ]
  },
  {
   "cell_type": "markdown",
   "metadata": {},
   "source": [
    "Accuracy Of Prediction"
   ]
  },
  {
   "cell_type": "code",
   "execution_count": 8,
   "metadata": {},
   "outputs": [
    {
     "name": "stdout",
     "output_type": "stream",
     "text": [
      "0.695\n",
      "139\n",
      "200\n"
     ]
    }
   ],
   "source": [
    "sum = 0\n",
    "for i,n in enumerate(y_test):\n",
    "    if n == y_pred[i]:\n",
    "        sum += 1\n",
    "print(sum/len(y_test))\n",
    "print(sum)\n",
    "print(len(y_test))"
   ]
  },
  {
   "cell_type": "markdown",
   "metadata": {},
   "source": [
    "Confusion Matrix"
   ]
  },
  {
   "cell_type": "code",
   "execution_count": 11,
   "metadata": {},
   "outputs": [
    {
     "name": "stdout",
     "output_type": "stream",
     "text": [
      "[[ 0  0  1  0  0  0]\n",
      " [ 0  0  4  2  0  0]\n",
      " [ 0  0 67 17  0  0]\n",
      " [ 0  0 20 67  3  0]\n",
      " [ 0  0  2 11  5  0]\n",
      " [ 0  0  0  1  0  0]]\n"
     ]
    },
    {
     "data": {
      "text/plain": [
       "0.695"
      ]
     },
     "execution_count": 11,
     "metadata": {},
     "output_type": "execute_result"
    }
   ],
   "source": [
    "from sklearn.metrics import confusion_matrix,accuracy_score\n",
    "cm = confusion_matrix(y_test,y_pred)\n",
    "print(cm)\n",
    "accuracy_score(y_test,y_pred)"
   ]
  }
 ],
 "metadata": {
  "kernelspec": {
   "display_name": "myenv",
   "language": "python",
   "name": "python3"
  },
  "language_info": {
   "codemirror_mode": {
    "name": "ipython",
    "version": 3
   },
   "file_extension": ".py",
   "mimetype": "text/x-python",
   "name": "python",
   "nbconvert_exporter": "python",
   "pygments_lexer": "ipython3",
   "version": "3.11.4"
  },
  "orig_nbformat": 4
 },
 "nbformat": 4,
 "nbformat_minor": 2
}
